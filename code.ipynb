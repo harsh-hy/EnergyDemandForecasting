{
 "cells": [
  {
   "cell_type": "code",
   "id": "initial_id",
   "metadata": {
    "collapsed": true,
    "ExecuteTime": {
     "end_time": "2025-07-25T17:22:03.762770Z",
     "start_time": "2025-07-25T17:21:54.076938Z"
    }
   },
   "source": [
    "import pandas as pd\n",
    "import numpy as np\n",
    "import matplotlib.pyplot as plt"
   ],
   "outputs": [
    {
     "name": "stderr",
     "output_type": "stream",
     "text": [
      "Matplotlib is building the font cache; this may take a moment.\n"
     ]
    }
   ],
   "execution_count": 3
  },
  {
   "metadata": {
    "ExecuteTime": {
     "end_time": "2025-07-25T17:24:24.764439Z",
     "start_time": "2025-07-25T17:24:24.746338Z"
    }
   },
   "cell_type": "code",
   "source": "data = pd.read_csv(r\"C:\\Projects\\mlProjects\\EneergyDemand\\TimeSeries_TotalSolarGen_and_Load_IT_2016.csv\")",
   "id": "98ea9d9d92fb9689",
   "outputs": [],
   "execution_count": 7
  },
  {
   "metadata": {
    "ExecuteTime": {
     "end_time": "2025-07-25T17:24:34.142748Z",
     "start_time": "2025-07-25T17:24:34.124054Z"
    }
   },
   "cell_type": "code",
   "source": "data.head()",
   "id": "75eee8bf183b8394",
   "outputs": [
    {
     "data": {
      "text/plain": [
       "          utc_timestamp  IT_load_new  IT_solar_generation\n",
       "0  2016-01-01T00:00:00Z      21665.0                    1\n",
       "1  2016-01-01T01:00:00Z      20260.0                    0\n",
       "2  2016-01-01T02:00:00Z      19056.0                    0\n",
       "3  2016-01-01T03:00:00Z      18407.0                    0\n",
       "4  2016-01-01T04:00:00Z      18425.0                    0"
      ],
      "text/html": [
       "<div>\n",
       "<style scoped>\n",
       "    .dataframe tbody tr th:only-of-type {\n",
       "        vertical-align: middle;\n",
       "    }\n",
       "\n",
       "    .dataframe tbody tr th {\n",
       "        vertical-align: top;\n",
       "    }\n",
       "\n",
       "    .dataframe thead th {\n",
       "        text-align: right;\n",
       "    }\n",
       "</style>\n",
       "<table border=\"1\" class=\"dataframe\">\n",
       "  <thead>\n",
       "    <tr style=\"text-align: right;\">\n",
       "      <th></th>\n",
       "      <th>utc_timestamp</th>\n",
       "      <th>IT_load_new</th>\n",
       "      <th>IT_solar_generation</th>\n",
       "    </tr>\n",
       "  </thead>\n",
       "  <tbody>\n",
       "    <tr>\n",
       "      <th>0</th>\n",
       "      <td>2016-01-01T00:00:00Z</td>\n",
       "      <td>21665.0</td>\n",
       "      <td>1</td>\n",
       "    </tr>\n",
       "    <tr>\n",
       "      <th>1</th>\n",
       "      <td>2016-01-01T01:00:00Z</td>\n",
       "      <td>20260.0</td>\n",
       "      <td>0</td>\n",
       "    </tr>\n",
       "    <tr>\n",
       "      <th>2</th>\n",
       "      <td>2016-01-01T02:00:00Z</td>\n",
       "      <td>19056.0</td>\n",
       "      <td>0</td>\n",
       "    </tr>\n",
       "    <tr>\n",
       "      <th>3</th>\n",
       "      <td>2016-01-01T03:00:00Z</td>\n",
       "      <td>18407.0</td>\n",
       "      <td>0</td>\n",
       "    </tr>\n",
       "    <tr>\n",
       "      <th>4</th>\n",
       "      <td>2016-01-01T04:00:00Z</td>\n",
       "      <td>18425.0</td>\n",
       "      <td>0</td>\n",
       "    </tr>\n",
       "  </tbody>\n",
       "</table>\n",
       "</div>"
      ]
     },
     "execution_count": 8,
     "metadata": {},
     "output_type": "execute_result"
    }
   ],
   "execution_count": 8
  },
  {
   "metadata": {},
   "cell_type": "code",
   "outputs": [],
   "execution_count": null,
   "source": "data['utc_timestamp'] = pd.to_datetime(data['utc_timestamp'])\n",
   "id": "c3a42d91608141c6"
  }
 ],
 "metadata": {
  "kernelspec": {
   "display_name": "Python 3",
   "language": "python",
   "name": "python3"
  },
  "language_info": {
   "codemirror_mode": {
    "name": "ipython",
    "version": 2
   },
   "file_extension": ".py",
   "mimetype": "text/x-python",
   "name": "python",
   "nbconvert_exporter": "python",
   "pygments_lexer": "ipython2",
   "version": "2.7.6"
  }
 },
 "nbformat": 4,
 "nbformat_minor": 5
}
